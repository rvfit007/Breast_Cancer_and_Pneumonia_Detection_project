{
 "cells": [
  {
   "cell_type": "code",
   "execution_count": null,
   "id": "6c409357",
   "metadata": {},
   "outputs": [],
   "source": [
    "import numpy as np\n",
    "import pandas as pd\n",
    "import matplotlib.pyplot as plt\n",
    "import sklearn.datasets\n",
    "from sklearn.model_selection import train_test_split\n",
    "import tensorflow as tf\n",
    "from tensorflow import keras\n",
    "tf.random.set_seed(3)"
   ]
  },
  {
   "cell_type": "code",
   "execution_count": null,
   "id": "c03bf8df",
   "metadata": {},
   "outputs": [],
   "source": [
    "import cv2\n",
    "from keras.callbacks import ReduceLROnPlateau\n",
    "import os\n",
    "import seaborn as sns\n",
    "from sklearn.metrics import classification_report, confusion_matrix\n",
    "from tensorflow.keras.preprocessing.image import ImageDataGenerator\n",
    "from keras.models import Sequential\n",
    "from keras.layers import Dense,Conv2D,MaxPool2D, Flatten,Dropout, BatchNormalization"
   ]
  },
  {
   "cell_type": "code",
   "execution_count": null,
   "id": "ffdda983",
   "metadata": {},
   "outputs": [],
   "source": [
    "breast_cancer_dataset = sklearn.datasets.load_breast_cancer()"
   ]
  },
  {
   "cell_type": "code",
   "execution_count": null,
   "id": "2ea11d80",
   "metadata": {},
   "outputs": [],
   "source": [
    "print(breast_cancer_dataset)"
   ]
  },
  {
   "cell_type": "code",
   "execution_count": null,
   "id": "649c3e01",
   "metadata": {},
   "outputs": [],
   "source": [
    "data_frame = pd.DataFrame(breast_cancer_dataset.data, columns = breast_cancer_dataset.feature_names)"
   ]
  },
  {
   "cell_type": "code",
   "execution_count": null,
   "id": "6d684ea8",
   "metadata": {},
   "outputs": [],
   "source": [
    "data_frame['label']= breast_cancer_dataset.target"
   ]
  },
  {
   "cell_type": "code",
   "execution_count": null,
   "id": "50a85d98",
   "metadata": {},
   "outputs": [],
   "source": [
    "data_frame.info()"
   ]
  },
  {
   "cell_type": "code",
   "execution_count": null,
   "id": "9853d13b",
   "metadata": {},
   "outputs": [],
   "source": [
    "data_frame.isnull().sum()"
   ]
  },
  {
   "cell_type": "code",
   "execution_count": null,
   "id": "c47cab91",
   "metadata": {},
   "outputs": [],
   "source": [
    "data_frame.describe()"
   ]
  },
  {
   "cell_type": "code",
   "execution_count": null,
   "id": "cf6854d4",
   "metadata": {},
   "outputs": [],
   "source": [
    "data_frame['label'].value_counts()"
   ]
  },
  {
   "cell_type": "code",
   "execution_count": null,
   "id": "7d9c4cda",
   "metadata": {},
   "outputs": [],
   "source": [
    "data_frame.groupby('label').mean()"
   ]
  },
  {
   "cell_type": "code",
   "execution_count": null,
   "id": "06d80eb0",
   "metadata": {},
   "outputs": [],
   "source": [
    "X = data_frame.drop(columns = 'label',axis=1)\n",
    "Y= data_frame['label']\n",
    "X.head()"
   ]
  },
  {
   "cell_type": "code",
   "execution_count": null,
   "id": "92648b17",
   "metadata": {},
   "outputs": [],
   "source": [
    "Y.head()"
   ]
  },
  {
   "cell_type": "code",
   "execution_count": null,
   "id": "556afd35",
   "metadata": {},
   "outputs": [],
   "source": [
    "X_train , X_test , Y_train, Y_test = train_test_split(X,Y, test_size=0.2,random_state=2)"
   ]
  },
  {
   "cell_type": "code",
   "execution_count": null,
   "id": "cee2c1e2",
   "metadata": {},
   "outputs": [],
   "source": [
    "print(X.shape,X_train.shape,X_test.shape)"
   ]
  },
  {
   "cell_type": "code",
   "execution_count": null,
   "id": "acf7e68d",
   "metadata": {},
   "outputs": [],
   "source": [
    "from sklearn.preprocessing import StandardScaler"
   ]
  },
  {
   "cell_type": "code",
   "execution_count": null,
   "id": "24a1bb65",
   "metadata": {},
   "outputs": [],
   "source": [
    "scaler = StandardScaler()\n",
    "X_train_std = scaler.fit_transform(X_train)\n",
    "X_test_std = scaler.transform(X_test)"
   ]
  },
  {
   "cell_type": "code",
   "execution_count": null,
   "id": "b7be7e27",
   "metadata": {},
   "outputs": [],
   "source": [
    "model = keras.Sequential([\n",
    "    keras.layers.Flatten(input_shape = (30,)),\n",
    "    keras.layers.Dense(20,activation='relu'),\n",
    "    keras.layers.Dense(2,activation='sigmoid')\n",
    "])"
   ]
  },
  {
   "cell_type": "code",
   "execution_count": null,
   "id": "39bba5b4",
   "metadata": {},
   "outputs": [],
   "source": [
    "model.compile(loss='sparse_categorical_crossentropy', \n",
    "              optimizer='adam', \n",
    "              metrics=['accuracy'])\n"
   ]
  },
  {
   "cell_type": "code",
   "execution_count": null,
   "id": "83a482f2",
   "metadata": {},
   "outputs": [],
   "source": [
    "history = model.fit(X_train_std,Y_train, validation_split=0.1, epochs = 10)"
   ]
  },
  {
   "cell_type": "code",
   "execution_count": null,
   "id": "9837786c",
   "metadata": {},
   "outputs": [],
   "source": [
    "plt.plot(history.history['accuracy'])\n",
    "plt.plot(history.history['val_accuracy'])\n",
    "plt.title('model accuracy')\n",
    "plt.ylabel('accuracy')\n",
    "plt.xlabel('epochs')\n",
    "plt.legend(['training data','validation data'],loc = 'lower right')"
   ]
  },
  {
   "cell_type": "code",
   "execution_count": null,
   "id": "51054bb3",
   "metadata": {},
   "outputs": [],
   "source": [
    "plt.plot(history.history['loss'])\n",
    "plt.plot(history.history['val_loss'])\n",
    "plt.title('model loss')\n",
    "plt.ylabel('loss')\n",
    "plt.xlabel('epochs')\n",
    "plt.legend(['training data','validation data'],loc = 'upper right')"
   ]
  },
  {
   "cell_type": "code",
   "execution_count": null,
   "id": "18374dbb",
   "metadata": {},
   "outputs": [],
   "source": [
    "loss , accuracy = model.evaluate(X_test_std, Y_test)\n",
    "print(accuracy)"
   ]
  },
  {
   "cell_type": "code",
   "execution_count": null,
   "id": "f4366403",
   "metadata": {},
   "outputs": [],
   "source": [
    "print(X_test_std.shape)\n",
    "print(X_test_std[0])"
   ]
  },
  {
   "cell_type": "code",
   "execution_count": null,
   "id": "7bf764b8",
   "metadata": {},
   "outputs": [],
   "source": [
    "Y_pred = model.predict(X_test_std)"
   ]
  },
  {
   "cell_type": "code",
   "execution_count": null,
   "id": "f8f9a7a5",
   "metadata": {},
   "outputs": [],
   "source": [
    "print(Y_pred.shape)"
   ]
  },
  {
   "cell_type": "code",
   "execution_count": null,
   "id": "b2735a09",
   "metadata": {},
   "outputs": [],
   "source": [
    "print(Y_pred[0])"
   ]
  },
  {
   "cell_type": "code",
   "execution_count": null,
   "id": "28237264",
   "metadata": {},
   "outputs": [],
   "source": [
    "print(X_test_std)"
   ]
  },
  {
   "cell_type": "code",
   "execution_count": null,
   "id": "fab9dfe3",
   "metadata": {},
   "outputs": [],
   "source": [
    "print(Y_pred)"
   ]
  },
  {
   "cell_type": "code",
   "execution_count": null,
   "id": "514bf835",
   "metadata": {},
   "outputs": [],
   "source": [
    "Y_pred_labels = [np.argmax(i) for i in Y_pred]"
   ]
  },
  {
   "cell_type": "code",
   "execution_count": null,
   "id": "46dcbfe0",
   "metadata": {},
   "outputs": [],
   "source": [
    "print(Y_pred_labels)"
   ]
  },
  {
   "cell_type": "code",
   "execution_count": null,
   "id": "8330689b",
   "metadata": {},
   "outputs": [],
   "source": [
    "input_data = (13.54,14.36,87.46,566.3,0.09779,0.08129,0.06664,0.04781,0.1885,0.05766,0.2699,0.7886,2.058,23.56,0.008462,0.0146,0.02387,0.01315,0.0198,0.0023,15.11,19.26,99.7,711.2,0.144,0.1773,0.239,0.1288,0.2977,0.07259)"
   ]
  },
  {
   "cell_type": "code",
   "execution_count": null,
   "id": "cda0744a",
   "metadata": {},
   "outputs": [],
   "source": [
    "input_data_array = np.asarray(input_data)"
   ]
  },
  {
   "cell_type": "code",
   "execution_count": null,
   "id": "c7377590",
   "metadata": {},
   "outputs": [],
   "source": [
    "input_data_reshaped = input_data_array.reshape(1,-1)"
   ]
  },
  {
   "cell_type": "code",
   "execution_count": null,
   "id": "3560a89f",
   "metadata": {},
   "outputs": [],
   "source": [
    "input_data_std = scaler.transform(input_data_reshaped)\n",
    "prediction = model.predict(input_data_std)\n",
    "print(prediction)\n",
    "prediction_label = [np.argmax(prediction)]\n",
    "print(prediction_label)\n",
    "\n",
    "if(prediction_label[0] == 0):\n",
    "    print(\"The tumor is Malignant\")\n",
    "else:\n",
    "    print('The tumor is Benign')"
   ]
  },
  {
   "cell_type": "code",
   "execution_count": null,
   "id": "09358a3a",
   "metadata": {},
   "outputs": [],
   "source": [
    "train_dir = r\"C:\\Users\\Ravi raj Vashishtha\\IITR-project\\chest_xray\\train\"\n",
    "test_dir = r\"C:\\Users\\Ravi raj Vashishtha\\IITR-project\\chest_xray\\test\"\n",
    "val_dir = r\"C:\\Users\\Ravi raj Vashishtha\\IITR-project\\chest_xray\\val\"\n",
    "print(\"Train set:\\n========================================\")\n",
    "\n",
    "num_normal = len(os.listdir(os.path.join(train_dir, 'NORMAL')))\n",
    "num_pneumonia = len(os.listdir(os.path.join(train_dir, 'PNEUMONIA')))\n",
    "print(f\"NORMAL={num_normal}\")\n",
    "print(f\"PNEUMONIA={num_pneumonia}\")\n",
    "\n",
    "print(\"\")\n",
    "print(\"\")\n",
    "print(\"Test set:\\n========================================\")\n",
    "\n",
    "print(f\"PNEUMONIA = {len(os.listdir(os.path.join(test_dir, 'PNEUMONIA')))}\")\n",
    "print(f\"NORMAL = {len(os.listdir(os.path.join(test_dir, 'NORMAL')))}\")\n",
    "\n",
    "print(\"\")\n",
    "print(\"\")\n",
    "print(\"Val set:\\n========================================\")\n",
    "\n",
    "print(f\"PNEUMONIA = {len(os.listdir(os.path.join(val_dir, 'PNEUMONIA')))}\")\n",
    "print(f\"NORMAL = {len(os.listdir(os.path.join(val_dir, 'NORMAL')))}\")"
   ]
  },
  {
   "cell_type": "code",
   "execution_count": null,
   "id": "eb67609d",
   "metadata": {},
   "outputs": [],
   "source": [
    "normal = os.listdir(r\"C:\\Users\\Ravi raj Vashishtha\\IITR-project\\chest_xray\\train\\NORMAL\")\n",
    "normal_dir = r\"C:\\Users\\Ravi raj Vashishtha\\IITR-project\\chest_xray\\train\\NORMAL\"\n",
    "plt.figure(figsize=(20, 10))\n",
    "\n",
    "for i in range(9):\n",
    "    plt.subplot(3, 3, i + 1)\n",
    "    img = plt.imread(os.path.join(normal_dir, normal[i]))\n",
    "    plt.imshow(img, cmap='gray')\n",
    "    plt.axis('off')\n",
    "plt.tight_layout()\n",
    "    "
   ]
  },
  {
   "cell_type": "code",
   "execution_count": null,
   "id": "e876b7a6",
   "metadata": {},
   "outputs": [],
   "source": [
    "normal_img = os.listdir(r\"C:\\Users\\Ravi raj Vashishtha\\IITR-project\\chest_xray\\train\\NORMAL\")[0]\n",
    "normal_dir = r\"C:\\Users\\Ravi raj Vashishtha\\IITR-project\\chest_xray\\train\\NORMAL\"\n",
    "sample_img = plt.imread(os.path.join(normal_dir, normal_img))\n",
    "plt.imshow(sample_img, cmap='gray')\n",
    "plt.colorbar()\n",
    "plt.title('Raw Chest X Ray Image')\n",
    "\n",
    "print(f\"The dimensions of the image are {sample_img.shape[0]} pixels width and {sample_img.shape[1]} pixels height, one single color channel.\")\n",
    "print(f\"The maximum pixel value is {sample_img.max():.4f} and the minimum is {sample_img.min():.4f}\")\n",
    "print(f\"The mean value of the pixels is {sample_img.mean():.4f} and the standard deviation is {sample_img.std():.4f}\")"
   ]
  },
  {
   "cell_type": "code",
   "execution_count": null,
   "id": "99f3046d",
   "metadata": {},
   "outputs": [],
   "source": [
    "sns.distplot(sample_img.ravel(),\n",
    "             label=f\"Pixel Mean {np.mean(sample_img):.4f} & Standard Deviation {np.std(sample_img):.4f}\", \n",
    "             kde=False)\n",
    "plt.legend(loc='upper right')\n",
    "plt.title('Distribution of Pixel Intensities in the Image')\n",
    "plt.xlabel('Pixel Intensity')\n",
    "plt.ylabel('# Pixels in Image')"
   ]
  },
  {
   "cell_type": "code",
   "execution_count": null,
   "id": "e5692292",
   "metadata": {},
   "outputs": [],
   "source": [
    "image_generator = ImageDataGenerator(\n",
    "    rotation_range=20,\n",
    "    width_shift_range=0.1,\n",
    "    shear_range=0.1,\n",
    "    zoom_range=0.1,\n",
    "    samplewise_center=True,\n",
    "    samplewise_std_normalization=True\n",
    ")"
   ]
  },
  {
   "cell_type": "code",
   "execution_count": null,
   "id": "dee64121",
   "metadata": {},
   "outputs": [],
   "source": [
    "train_img = image_generator.flow_from_directory(train_dir, \n",
    "                                            batch_size=8, \n",
    "                                            shuffle=True, \n",
    "                                            classes = [\"NORMAL\", \"PNEUMONIA\"],\n",
    "                                            class_mode='binary',\n",
    "                                            target_size=(320, 320))\n",
    "\n",
    "test_img = image_generator.flow_from_directory(test_dir, \n",
    "                                            batch_size=1, \n",
    "                                            shuffle=False, \n",
    "                                            classes = [\"NORMAL\", \"PNEUMONIA\"],\n",
    "                                            class_mode='binary',\n",
    "                                            target_size=(320, 320))"
   ]
  },
  {
   "cell_type": "code",
   "execution_count": null,
   "id": "62af002b",
   "metadata": {},
   "outputs": [],
   "source": [
    "sns.set_style('white')\n",
    "generated_image, label = train_img.__getitem__(0)\n",
    "plt.imshow(generated_image[0], cmap='gray')\n",
    "plt.colorbar()\n",
    "plt.title('Raw Chest X Ray Image')\n",
    "\n",
    "print(f\"The dimensions of the image are {generated_image.shape[1]} pixels width and {generated_image.shape[2]} pixels height, one single color channel.\")\n",
    "print(f\"The maximum pixel value is {generated_image.max():.4f} and the minimum is {generated_image.min():.4f}\")\n",
    "print(f\"The mean value of the pixels is {generated_image.mean():.4f} and the standard deviation is {generated_image.std():.4f}"
   ]
  },
  {
   "cell_type": "code",
   "execution_count": null,
   "id": "3899bd7f",
   "metadata": {},
   "outputs": [],
   "source": [
    "sns.distplot(generated_image.ravel(),\n",
    "             label=f\"Pixel Mean {np.mean(generated_image):.4f} & Standard Deviation {np.std(generated_image):.4f}\", \n",
    "             kde=False)\n",
    "plt.legend(loc='upper center')\n",
    "plt.title('Distribution of Pixel Intensities in the Image')\n",
    "plt.xlabel('Pixel Intensity')\n",
    "plt.ylabel('# Pixels in Image')"
   ]
  },
  {
   "cell_type": "code",
   "execution_count": null,
   "id": "d8ab6ae4",
   "metadata": {},
   "outputs": [],
   "source": [
    "weight_for_0 = num_pneumonia / (num_normal + num_pneumonia)\n",
    "weight_for_1 = num_normal / (num_normal + num_pneumonia)\n",
    "\n",
    "class_weight = {0: weight_for_0, 1: weight_for_1}\n",
    "\n",
    "print(f\"Weight for class 0: {weight_for_0:.2f}\")\n",
    "print(f\"Weight for class 1: {weight_for_1:.2f}\""
   ]
  },
  {
   "cell_type": "code",
   "execution_count": null,
   "id": "049dd01f",
   "metadata": {},
   "outputs": [],
   "source": [
    "model1 = Sequential()\n",
    "\n",
    "model1.add(Conv2D(filters=32, kernel_size=(3, 3), input_shape=(320, 320, 3), activation='relu'))\n",
    "model1.add(BatchNormalization())\n",
    "model1.add(Conv2D(filters=32, kernel_size=(3, 3), activation='relu'))\n",
    "model1.add(BatchNormalization())\n",
    "model1.add(MaxPool2D(pool_size=(2, 2)))\n",
    "\n",
    "model1.add(Conv2D(filters=64, kernel_size=(3, 3), activation='relu'))\n",
    "model1.add(BatchNormalization())\n",
    "model1.add(Conv2D(filters=64, kernel_size=(3, 3), activation='relu'))\n",
    "model1.add(BatchNormalization())\n",
    "model1.add(MaxPool2D(pool_size=(2, 2)))\n",
    "\n",
    "model1.add(Conv2D(filters=128, kernel_size=(3, 3), activation='relu'))\n",
    "model1.add(BatchNormalization())\n",
    "model1.add(Conv2D(filters=128, kernel_size=(3, 3), activation='relu'))\n",
    "model1.add(BatchNormalization())\n",
    "model1.add(MaxPool2D(pool_size=(2, 2)))\n",
    "\n",
    "model1.add(Flatten())\n",
    "model1.add(Dense(128, activation='relu'))\n",
    "model1.add(Dropout(0.2))\n",
    "\n",
    "model1.add(Dense(1, activation='sigmoid'))\n",
    "\n",
    "model1.compile(loss='binary_crossentropy', \n",
    "              optimizer='adam', \n",
    "              metrics=['accuracy'])\n"
   ]
  },
  {
   "cell_type": "code",
   "execution_count": null,
   "id": "c628835c",
   "metadata": {},
   "outputs": [],
   "source": [
    "model1.summary()"
   ]
  },
  {
   "cell_type": "code",
   "execution_count": null,
   "id": "adf4c266",
   "metadata": {},
   "outputs": [],
   "source": [
    "history = model1.fit(\n",
    "    train_img, \n",
    "    epochs=5,\n",
    "    class_weight=class_weight,\n",
    ")"
   ]
  },
  {
   "cell_type": "code",
   "execution_count": null,
   "id": "7ae31de6",
   "metadata": {},
   "outputs": [],
   "source": [
    "model1.evaluate(test_img)"
   ]
  },
  {
   "cell_type": "code",
   "execution_count": null,
   "id": "1a4b9833",
   "metadata": {},
   "outputs": [],
   "source": []
  },
  {
   "cell_type": "code",
   "execution_count": null,
   "id": "82e9cf79",
   "metadata": {},
   "outputs": [],
   "source": []
  }
 ],
 "metadata": {
  "kernelspec": {
   "display_name": "MLKERNEL",
   "language": "python",
   "name": "mlkernel"
  },
  "language_info": {
   "codemirror_mode": {
    "name": "ipython",
    "version": 3
   },
   "file_extension": ".py",
   "mimetype": "text/x-python",
   "name": "python",
   "nbconvert_exporter": "python",
   "pygments_lexer": "ipython3",
   "version": "3.12.2"
  }
 },
 "nbformat": 4,
 "nbformat_minor": 5
}
